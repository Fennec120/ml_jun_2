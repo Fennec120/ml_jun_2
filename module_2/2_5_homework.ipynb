{
 "cells": [
  {
   "cell_type": "code",
   "execution_count": 3,
   "id": "65bd49cb-149a-4de8-9a06-086d1bc62390",
   "metadata": {},
   "outputs": [],
   "source": [
    "from ydata_profiling import ProfileReport\n",
    "from hyperopt import rand, tpe\n",
    "from hyperopt import fmin, tpe, hp, Trials\n",
    "import pandas as pd\n",
    "from sklearn.model_selection import train_test_split\n",
    "from sklearn.ensemble import RandomForestClassifier\n",
    "from sklearn.metrics import accuracy_score, classification_report"
   ]
  },
  {
   "cell_type": "code",
   "execution_count": 4,
   "id": "758efcba-1706-4729-a3eb-4e19abc65a39",
   "metadata": {},
   "outputs": [],
   "source": [
    "from sklearn.pipeline import Pipeline\n",
    "from sklearn.compose import ColumnTransformer\n",
    "from sklearn.preprocessing import StandardScaler\n",
    "from sklearn.preprocessing import OneHotEncoder\n",
    "from sklearn.impute import SimpleImputer"
   ]
  },
  {
   "cell_type": "code",
   "execution_count": 5,
   "id": "b75ab53e-ec24-44df-afa6-4d27b16432aa",
   "metadata": {},
   "outputs": [],
   "source": [
    "# Импорты из стандартной библиотеки\n",
    "from pathlib import Path\n",
    "\n",
    "# Установленные пакеты\n",
    "import pandas as pd\n",
    "import matplotlib.pyplot as plt\n",
    "import seaborn as sns\n",
    "\n",
    "%matplotlib inline"
   ]
  },
  {
   "cell_type": "code",
   "execution_count": 7,
   "id": "a7be7374-9d4c-470b-bc13-85ddb8ac0ef0",
   "metadata": {},
   "outputs": [],
   "source": [
    "from ydata_profiling import ProfileReport\n",
    "\n",
    "# Импорт функции для кэширования зип-файла\n",
    "from ydata_profiling.utils.cache import cache_zipped_file\n",
    "\n",
    "# Чтение датасета UCI Bank Dataset\n",
    "file_name = cache_zipped_file(\n",
    "        \"bank-full.csv\",\n",
    "        \"https://archive.ics.uci.edu/ml/machine-learning-databases/00222/bank.zip\",\n",
    ")\n",
    "df = pd.read_csv(file_name, sep=\";\")"
   ]
  },
  {
   "cell_type": "code",
   "execution_count": null,
   "id": "d00e36d9-92ea-4fb4-85bd-a93c5d7ffdcc",
   "metadata": {},
   "outputs": [],
   "source": []
  },
  {
   "cell_type": "code",
   "execution_count": null,
   "id": "9c5f3a7e-6da0-415a-99cf-02aae8c9de24",
   "metadata": {},
   "outputs": [],
   "source": []
  },
  {
   "cell_type": "code",
   "execution_count": null,
   "id": "303857e7-d659-4658-af22-baf89e0af25c",
   "metadata": {},
   "outputs": [],
   "source": []
  }
 ],
 "metadata": {
  "kernelspec": {
   "display_name": "Python 3 (ipykernel)",
   "language": "python",
   "name": "python3"
  },
  "language_info": {
   "codemirror_mode": {
    "name": "ipython",
    "version": 3
   },
   "file_extension": ".py",
   "mimetype": "text/x-python",
   "name": "python",
   "nbconvert_exporter": "python",
   "pygments_lexer": "ipython3",
   "version": "3.12.4"
  }
 },
 "nbformat": 4,
 "nbformat_minor": 5
}
